{
 "cells": [
  {
   "cell_type": "code",
   "execution_count": 3,
   "source": [
    "import os"
   ],
   "outputs": [],
   "metadata": {}
  },
  {
   "cell_type": "code",
   "execution_count": 4,
   "source": [
    "os.chdir('/Users/josh/Documents/GitHub/exerPythFileRename/ocdfilenames')"
   ],
   "outputs": [],
   "metadata": {}
  },
  {
   "cell_type": "code",
   "execution_count": 5,
   "source": [
    "print(os.getcwd())"
   ],
   "outputs": [
    {
     "output_type": "stream",
     "name": "stdout",
     "text": [
      "/Users/josh/Documents/GitHub/exerPythFileRename/ocdfilenames\n"
     ]
    }
   ],
   "metadata": {}
  },
  {
   "cell_type": "code",
   "execution_count": 6,
   "source": [
    "for f in os.listdir():\n",
    "    print(f)"
   ],
   "outputs": [
    {
     "output_type": "stream",
     "name": "stdout",
     "text": [
      "Venus - Our solar system - #3.txt\n",
      "Mercury - Our solar system - #2.txt\n",
      "Mars - Our solar system - #5.txt\n",
      "Pluto - Our solar system - #10.txt\n",
      "Neptune - Our solar system - #8.txt\n",
      "Jupiter - Our solar system - #6.txt\n",
      "Uranus - Our solar system - #9.txt\n",
      "Earth - Our solar system - #4.txt\n",
      "Saturn - Our solar system - #7.txt\n",
      "The Sun - Our solar system - #1.txt\n"
     ]
    }
   ],
   "metadata": {}
  },
  {
   "cell_type": "code",
   "execution_count": 7,
   "source": [
    "for f in os.listdir():\n",
    "    print(os.path.splitext(f))"
   ],
   "outputs": [
    {
     "output_type": "stream",
     "name": "stdout",
     "text": [
      "('Venus - Our solar system - #3', '.txt')\n",
      "('Mercury - Our solar system - #2', '.txt')\n",
      "('Mars - Our solar system - #5', '.txt')\n",
      "('Pluto - Our solar system - #10', '.txt')\n",
      "('Neptune - Our solar system - #8', '.txt')\n",
      "('Jupiter - Our solar system - #6', '.txt')\n",
      "('Uranus - Our solar system - #9', '.txt')\n",
      "('Earth - Our solar system - #4', '.txt')\n",
      "('Saturn - Our solar system - #7', '.txt')\n",
      "('The Sun - Our solar system - #1', '.txt')\n"
     ]
    }
   ],
   "metadata": {}
  },
  {
   "cell_type": "code",
   "execution_count": 8,
   "source": [
    "for f in os.listdir():\n",
    "    file_name, file_ext = os.path.splitext(f)\n",
    "    print(file_name)"
   ],
   "outputs": [
    {
     "output_type": "stream",
     "name": "stdout",
     "text": [
      "Venus - Our solar system - #3\n",
      "Mercury - Our solar system - #2\n",
      "Mars - Our solar system - #5\n",
      "Pluto - Our solar system - #10\n",
      "Neptune - Our solar system - #8\n",
      "Jupiter - Our solar system - #6\n",
      "Uranus - Our solar system - #9\n",
      "Earth - Our solar system - #4\n",
      "Saturn - Our solar system - #7\n",
      "The Sun - Our solar system - #1\n"
     ]
    }
   ],
   "metadata": {}
  },
  {
   "cell_type": "code",
   "execution_count": 9,
   "source": [
    "for f in os.listdir():\n",
    "    file_name, file_ext = os.path.splitext(f)\n",
    "    print(file_name.split('-'))"
   ],
   "outputs": [
    {
     "output_type": "stream",
     "name": "stdout",
     "text": [
      "['Venus ', ' Our solar system ', ' #3']\n",
      "['Mercury ', ' Our solar system ', ' #2']\n",
      "['Mars ', ' Our solar system ', ' #5']\n",
      "['Pluto ', ' Our solar system ', ' #10']\n",
      "['Neptune ', ' Our solar system ', ' #8']\n",
      "['Jupiter ', ' Our solar system ', ' #6']\n",
      "['Uranus ', ' Our solar system ', ' #9']\n",
      "['Earth ', ' Our solar system ', ' #4']\n",
      "['Saturn ', ' Our solar system ', ' #7']\n",
      "['The Sun ', ' Our solar system ', ' #1']\n"
     ]
    }
   ],
   "metadata": {}
  },
  {
   "cell_type": "code",
   "execution_count": 10,
   "source": [
    "for f in os.listdir():\n",
    "    file_name, file_ext = os.path.splitext(f)\n",
    "    \n",
    "    f_title, f_course, f_num = file_name.split('-')\n",
    "    print(f_title)\n",
    "    print(f_course)\n",
    "    print(f_num)"
   ],
   "outputs": [
    {
     "output_type": "stream",
     "name": "stdout",
     "text": [
      "Venus \n",
      " Our solar system \n",
      " #3\n",
      "Mercury \n",
      " Our solar system \n",
      " #2\n",
      "Mars \n",
      " Our solar system \n",
      " #5\n",
      "Pluto \n",
      " Our solar system \n",
      " #10\n",
      "Neptune \n",
      " Our solar system \n",
      " #8\n",
      "Jupiter \n",
      " Our solar system \n",
      " #6\n",
      "Uranus \n",
      " Our solar system \n",
      " #9\n",
      "Earth \n",
      " Our solar system \n",
      " #4\n",
      "Saturn \n",
      " Our solar system \n",
      " #7\n",
      "The Sun \n",
      " Our solar system \n",
      " #1\n"
     ]
    }
   ],
   "metadata": {}
  },
  {
   "cell_type": "code",
   "execution_count": 11,
   "source": [
    "for f in os.listdir():\n",
    "    f_name, f_ext = os.path.splitext(f)\n",
    "    \n",
    "    f_title, f_course, f_num = f_name.split('-')\n",
    "  \n",
    "    print('{}-{}-{}{}' .format(f_num, f_course, f_title, f_ext))"
   ],
   "outputs": [
    {
     "output_type": "stream",
     "name": "stdout",
     "text": [
      " #3- Our solar system -Venus .txt\n",
      " #2- Our solar system -Mercury .txt\n",
      " #5- Our solar system -Mars .txt\n",
      " #10- Our solar system -Pluto .txt\n",
      " #8- Our solar system -Neptune .txt\n",
      " #6- Our solar system -Jupiter .txt\n",
      " #9- Our solar system -Uranus .txt\n",
      " #4- Our solar system -Earth .txt\n",
      " #7- Our solar system -Saturn .txt\n",
      " #1- Our solar system -The Sun .txt\n"
     ]
    }
   ],
   "metadata": {}
  },
  {
   "cell_type": "code",
   "execution_count": 12,
   "source": [
    "for f in os.listdir():\n",
    "    f_name, f_ext = os.path.splitext(f)\n",
    "    \n",
    "    f_title, f_course, f_num = f_name.split('-')\n",
    "\n",
    "    f_title = f_title.strip()\n",
    "    f_course = f_course.strip()\n",
    "    f_num = f_num.strip()\n",
    "  \n",
    "    print('{}-{}-{}{}' .format(f_num, f_course, f_title, f_ext))"
   ],
   "outputs": [
    {
     "output_type": "stream",
     "name": "stdout",
     "text": [
      "#3-Our solar system-Venus.txt\n",
      "#2-Our solar system-Mercury.txt\n",
      "#5-Our solar system-Mars.txt\n",
      "#10-Our solar system-Pluto.txt\n",
      "#8-Our solar system-Neptune.txt\n",
      "#6-Our solar system-Jupiter.txt\n",
      "#9-Our solar system-Uranus.txt\n",
      "#4-Our solar system-Earth.txt\n",
      "#7-Our solar system-Saturn.txt\n",
      "#1-Our solar system-The Sun.txt\n"
     ]
    }
   ],
   "metadata": {}
  },
  {
   "cell_type": "code",
   "execution_count": 14,
   "source": [
    "for f in os.listdir():\n",
    "    f_name, f_ext = os.path.splitext(f)\n",
    "    \n",
    "    f_title, f_course, f_num = f_name.split('-')\n",
    "\n",
    "    f_title = f_title.strip()\n",
    "    f_course = f_course.strip()\n",
    "    f_num = f_num.strip()[1:]\n",
    "  \n",
    "    print('{}-{}-{}{}' .format(f_num, f_course, f_title, f_ext))"
   ],
   "outputs": [
    {
     "output_type": "stream",
     "name": "stdout",
     "text": [
      "3-Our solar system-Venus.txt\n",
      "2-Our solar system-Mercury.txt\n",
      "5-Our solar system-Mars.txt\n",
      "10-Our solar system-Pluto.txt\n",
      "8-Our solar system-Neptune.txt\n",
      "6-Our solar system-Jupiter.txt\n",
      "9-Our solar system-Uranus.txt\n",
      "4-Our solar system-Earth.txt\n",
      "7-Our solar system-Saturn.txt\n",
      "1-Our solar system-The Sun.txt\n"
     ]
    }
   ],
   "metadata": {}
  },
  {
   "cell_type": "code",
   "execution_count": 15,
   "source": [
    "for f in os.listdir():\n",
    "    f_name, f_ext = os.path.splitext(f)\n",
    "    \n",
    "    f_title, f_course, f_num = f_name.split('-')\n",
    "\n",
    "    f_title = f_title.strip()\n",
    "    f_course = f_course.strip()\n",
    "    f_num = f_num.strip()[1:].zfill(2)\n",
    "  \n",
    "    print('{}-{}-{}{}' .format(f_num, f_course, f_title, f_ext))"
   ],
   "outputs": [
    {
     "output_type": "stream",
     "name": "stdout",
     "text": [
      "03-Our solar system-Venus.txt\n",
      "02-Our solar system-Mercury.txt\n",
      "05-Our solar system-Mars.txt\n",
      "10-Our solar system-Pluto.txt\n",
      "08-Our solar system-Neptune.txt\n",
      "06-Our solar system-Jupiter.txt\n",
      "09-Our solar system-Uranus.txt\n",
      "04-Our solar system-Earth.txt\n",
      "07-Our solar system-Saturn.txt\n",
      "01-Our solar system-The Sun.txt\n"
     ]
    }
   ],
   "metadata": {}
  },
  {
   "cell_type": "code",
   "execution_count": 16,
   "source": [
    "for f in os.listdir():\n",
    "    f_name, f_ext = os.path.splitext(f)\n",
    "    \n",
    "    f_title, f_course, f_num = f_name.split('-')\n",
    "\n",
    "    f_title = f_title.strip()\n",
    "    f_course = f_course.strip()\n",
    "    f_num = f_num.strip()[1:].zfill(2)\n",
    "  \n",
    "    new_name = '{}-{}-{}{}' .format(f_num, f_course, f_title, f_ext)\n",
    "\n",
    "    os.rename(f, new_name)"
   ],
   "outputs": [],
   "metadata": {}
  }
 ],
 "metadata": {
  "orig_nbformat": 4,
  "language_info": {
   "name": "python",
   "version": "3.8.8",
   "mimetype": "text/x-python",
   "codemirror_mode": {
    "name": "ipython",
    "version": 3
   },
   "pygments_lexer": "ipython3",
   "nbconvert_exporter": "python",
   "file_extension": ".py"
  },
  "kernelspec": {
   "name": "python3",
   "display_name": "Python 3.8.8 64-bit ('base': conda)"
  },
  "interpreter": {
   "hash": "b6b651f281809d6f5bb1ebb314364d3970bc3b05c24a509e1dfeed0ec94f0fd7"
  }
 },
 "nbformat": 4,
 "nbformat_minor": 2
}